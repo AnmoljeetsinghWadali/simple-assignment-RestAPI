{
 "cells": [
  {
   "cell_type": "code",
   "execution_count": 2,
   "metadata": {},
   "outputs": [],
   "source": [
    "#fast api\n",
    "#mongodb motor driver\n"
   ]
  },
  {
   "cell_type": "code",
   "execution_count": 160,
   "metadata": {},
   "outputs": [],
   "source": [
    "#delete task  from db\n",
    "def delete_db(name):\n",
    "    myquery={\"Name\":name}\n",
    "    if mycoll.find_one(myquery)!=None:\n",
    "        mycoll.delete_one(myquery) \n",
    "        return {\"Result\":\"Task is Deleted From DataBase\"}\n",
    "    else:\n",
    "        return {\"Warning\":\"No task with This name Exist in DataBase!!!\"}\n",
    "    \n",
    "    "
   ]
  },
  {
   "cell_type": "code",
   "execution_count": 161,
   "metadata": {},
   "outputs": [
    {
     "data": {
      "text/plain": [
       "{'Result': 'Task is Deleted From DataBase'}"
      ]
     },
     "execution_count": 161,
     "metadata": {},
     "output_type": "execute_result"
    }
   ],
   "source": [
    "delete_db(\"study\")"
   ]
  },
  {
   "cell_type": "code",
   "execution_count": 187,
   "metadata": {},
   "outputs": [],
   "source": [
    "#view a task\n",
    "def view(name):\n",
    "    name=name.lower()\n",
    "    myquery={\"Name\":name}\n",
    "    result=mycoll.find_one(myquery)\n",
    "    if result!=None:\n",
    "        ans=result\n",
    "        ans.pop('_id')\n",
    "        return ans\n",
    "    else:\n",
    "        return {\"Warning\":\"No task with This name Exist in DataBase!!!\"}\n",
    "    "
   ]
  },
  {
   "cell_type": "code",
   "execution_count": 196,
   "metadata": {},
   "outputs": [
    {
     "data": {
      "text/plain": [
       "{'Name': 'gamming', 'DueDate': '11/11/21', 'Complete': True}"
      ]
     },
     "execution_count": 196,
     "metadata": {},
     "output_type": "execute_result"
    }
   ],
   "source": [
    "view('gamming')"
   ]
  },
  {
   "cell_type": "code",
   "execution_count": 197,
   "metadata": {},
   "outputs": [],
   "source": [
    "#update complete status of task\n",
    "#changing complettion true to false and vice versa\n",
    "def updatecomplete(name):\n",
    "        name=name.lower()\n",
    "        myquery={\"Name\":name}\n",
    "        result=mycoll.find_one(myquery)\n",
    "        if result!=None:\n",
    "            result['Complete']=not result['Complete']\n",
    "            newvalues = { \"$set\":result }\n",
    "            mycoll.update_one(myquery, newvalues)#update single query/record\n",
    "            return {\"Status\":\"Completion Status Updated\"}\n",
    "        else:\n",
    "            return {\"Warning\":\"No task with This name Exist in DataBase!!!\"}\n",
    "            \n",
    "            \n",
    "            \n",
    "            \n",
    "    "
   ]
  },
  {
   "cell_type": "code",
   "execution_count": 198,
   "metadata": {},
   "outputs": [
    {
     "data": {
      "text/plain": [
       "{'Status': 'Completion Status Updated'}"
      ]
     },
     "execution_count": 198,
     "metadata": {},
     "output_type": "execute_result"
    }
   ],
   "source": [
    "updatecomplete(\"gamming\")"
   ]
  },
  {
   "cell_type": "code",
   "execution_count": 200,
   "metadata": {},
   "outputs": [],
   "source": [
    "\n",
    "def updateduedate(name,newduedate):\n",
    "        name=name.lower()\n",
    "        myquery={\"Name\":name}\n",
    "        result=mycoll.find_one(myquery)\n",
    "        if result!=None:\n",
    "            olddate=result['DueDate']\n",
    "            result['DueDate']=newduedate\n",
    "            newvalues = { \"$set\":result }\n",
    "            mycoll.update_one(myquery, newvalues)#update single query/record\n",
    "            return {\"Status\":\"Due Date Updated Successfully from {} to {} \".format(olddate,newduedate)}\n",
    "        else:\n",
    "            return {\"Warning\":\"No task with This name Exist in DataBase!!!\"}\n",
    "            \n",
    "            "
   ]
  },
  {
   "cell_type": "code",
   "execution_count": 201,
   "metadata": {},
   "outputs": [],
   "source": [
    "## testing the apis "
   ]
  },
  {
   "cell_type": "code",
   "execution_count": 202,
   "metadata": {},
   "outputs": [],
   "source": [
    "import requests as r"
   ]
  },
  {
   "cell_type": "code",
   "execution_count": 203,
   "metadata": {},
   "outputs": [],
   "source": [
    "#urls \n",
    "#name-task name\n",
    "#duedate- due date for task\n",
    "#newduedate- update new due date for task\n",
    "#eid -user email id to share task\n",
    "url_add_task=\"http://127.0.0.1:8000/task/add?name={}&duedate={}\"\n",
    "url_delete_task=\"http://127.0.0.1:8000/task/delete?name={}\"\n",
    "url_view_task=\"http://127.0.0.1:8000/task/view?name={}\"\n",
    "url_complete_update=\"http://127.0.0.1:8000/task/update/complete?name={}\"\n",
    "url_update_duedate=\"http://127.0.0.1:8000/task/update/duedate?name={}&newduedate={}\"\n",
    "url_share_task=\"http://127.0.0.1:8000/task/share?name={}&eid={}\""
   ]
  },
  {
   "cell_type": "code",
   "execution_count": 209,
   "metadata": {},
   "outputs": [
    {
     "data": {
      "text/plain": [
       "{'Status': 'Task is added!!!',\n",
       " 'Task name': 'assignment1',\n",
       " 'Due Date': '12/07/20'}"
      ]
     },
     "execution_count": 209,
     "metadata": {},
     "output_type": "execute_result"
    }
   ],
   "source": [
    "#adding task1\n",
    "task1=\"assignment1\"\n",
    "duedate=\"12/07/20\"\n",
    "req=r.get(url_add_task.format(task1,duedate))\n",
    "req.json()"
   ]
  },
  {
   "cell_type": "code",
   "execution_count": 211,
   "metadata": {},
   "outputs": [
    {
     "name": "stdout",
     "output_type": "stream",
     "text": [
      "{'Status': 'Task is added!!!', 'Task name': 'assignment2', 'Due Date': '13/07/20'}\n"
     ]
    }
   ],
   "source": [
    "#adding task2\n",
    "task2=\"assignment2\"\n",
    "duedate=\"13/07/20\"\n",
    "req=r.get(url_add_task.format(task2,duedate))\n",
    "print(req.json())"
   ]
  },
  {
   "cell_type": "code",
   "execution_count": 212,
   "metadata": {},
   "outputs": [
    {
     "name": "stdout",
     "output_type": "stream",
     "text": [
      "{'Status': 'Task is added!!!', 'Task name': 'assignment3', 'Due Date': '16/07/20'}\n"
     ]
    }
   ],
   "source": [
    "#adding task3\n",
    "task3=\"assignment3\"\n",
    "duedate=\"16/07/20\"\n",
    "req=r.get(url_add_task.format(task3,duedate))\n",
    "print(req.json())"
   ]
  },
  {
   "cell_type": "code",
   "execution_count": 213,
   "metadata": {},
   "outputs": [
    {
     "name": "stdout",
     "output_type": "stream",
     "text": [
      "{'Result': 'Task is Deleted From DataBase'}\n"
     ]
    }
   ],
   "source": [
    "#deleteing task 2\n",
    "task2=\"assignment2\"\n",
    "req=r.get(url_delete_task.format(task2))\n",
    "print(req.json())"
   ]
  },
  {
   "cell_type": "code",
   "execution_count": 214,
   "metadata": {},
   "outputs": [
    {
     "name": "stdout",
     "output_type": "stream",
     "text": [
      "{'Name': 'assignment3', 'DueDate': '16/07/20', 'Complete': False}\n"
     ]
    }
   ],
   "source": [
    "#view task 3\n",
    "#by default, Status of each task is set to false\n",
    "task3=\"assignment3\"\n",
    "req=r.get(url_view_task.format(task3))\n",
    "print(req.json())"
   ]
  },
  {
   "cell_type": "code",
   "execution_count": 215,
   "metadata": {},
   "outputs": [
    {
     "name": "stdout",
     "output_type": "stream",
     "text": [
      "{'Result': 'Completion Status Updated', 'Task Status': 'Task is Completed'}\n"
     ]
    }
   ],
   "source": [
    "#by default, Status of each task is set to false\n",
    "#to change status of task3 from uncompleted to completed\n",
    "task3=\"assignment3\"\n",
    "req=r.get(url_complete_update.format(task3))\n",
    "print(req.json())"
   ]
  },
  {
   "cell_type": "code",
   "execution_count": 216,
   "metadata": {},
   "outputs": [
    {
     "name": "stdout",
     "output_type": "stream",
     "text": [
      "{'Name': 'assignment3', 'DueDate': '16/07/20', 'Complete': True}\n"
     ]
    }
   ],
   "source": [
    "task3=\"assignment3\"\n",
    "req=r.get(url_view_task.format(task3))\n",
    "print(req.json())"
   ]
  },
  {
   "cell_type": "code",
   "execution_count": 217,
   "metadata": {},
   "outputs": [
    {
     "name": "stdout",
     "output_type": "stream",
     "text": [
      "{'Status': 'Due Date Updated Successfully from 16/07/20 to 20/07/20 '}\n"
     ]
    }
   ],
   "source": [
    "#updating due date of a Task3\n",
    "newduedate=\"20/07/20\"\n",
    "task3=\"assignment3\"\n",
    "req=r.get(url_update_duedate.format(task3,newduedate))\n",
    "print(req.json())\n"
   ]
  },
  {
   "cell_type": "code",
   "execution_count": 218,
   "metadata": {},
   "outputs": [
    {
     "name": "stdout",
     "output_type": "stream",
     "text": [
      "{'Name': 'assignment3', 'DueDate': '20/07/20', 'Complete': True}\n"
     ]
    }
   ],
   "source": [
    "task3=\"assignment3\"\n",
    "req=r.get(url_view_task.format(task3))\n",
    "print(req.json())"
   ]
  },
  {
   "cell_type": "code",
   "execution_count": 220,
   "metadata": {},
   "outputs": [
    {
     "name": "stdout",
     "output_type": "stream",
     "text": [
      "{'Result': 'Task is Shared Successfully with User using Emailid', 'Email Id': 'anmolwadali1998@gmail.com', 'Task details': {'Name': 'assignment1', 'DueDate': '12/07/20', 'Complete': False}}\n"
     ]
    }
   ],
   "source": [
    "#share the task1 with other user using email ID\n",
    "emailid=\"anmolwadali1998@gmail.com\"\n",
    "task1=\"assignment1\"\n",
    "#url_share_task\n",
    "req=r.get(url_share_task.format(task1,emailid))\n",
    "print(req.json())"
   ]
  },
  {
   "cell_type": "code",
   "execution_count": 221,
   "metadata": {},
   "outputs": [],
   "source": [
    "#email && date format validation using regex\n"
   ]
  },
  {
   "cell_type": "code",
   "execution_count": 222,
   "metadata": {},
   "outputs": [],
   "source": [
    "import re"
   ]
  },
  {
   "cell_type": "code",
   "execution_count": 228,
   "metadata": {},
   "outputs": [],
   "source": [
    "email_regex = re.compile(r\"[\\w\\.-]+@[\\w\\.-]+\")\n"
   ]
  },
  {
   "cell_type": "code",
   "execution_count": 238,
   "metadata": {},
   "outputs": [],
   "source": [
    "eid=\"anmolwadali1998@gmail.com\""
   ]
  },
  {
   "cell_type": "code",
   "execution_count": 237,
   "metadata": {},
   "outputs": [
    {
     "data": {
      "text/plain": [
       "['anmolwadali1998---@gmail.com']"
      ]
     },
     "execution_count": 237,
     "metadata": {},
     "output_type": "execute_result"
    }
   ],
   "source": [
    "results = email_regex.findall(eid)\n",
    "results"
   ]
  },
  {
   "cell_type": "code",
   "execution_count": 241,
   "metadata": {},
   "outputs": [],
   "source": [
    "def email_vaildate(eid):\n",
    "    email_regex = re.compile(r\"[\\w\\.-]+@[\\w\\.-]+\")\n",
    "    result = email_regex.findall(eid)\n",
    "    if len(result)==0:\n",
    "        return None\n",
    "    return result[0]\n",
    "    \n",
    "    "
   ]
  },
  {
   "cell_type": "code",
   "execution_count": 244,
   "metadata": {},
   "outputs": [
    {
     "name": "stdout",
     "output_type": "stream",
     "text": [
      "None\n"
     ]
    }
   ],
   "source": [
    "print(email_vaildate('anmolwadali1998gmail.com'))"
   ]
  },
  {
   "cell_type": "code",
   "execution_count": 245,
   "metadata": {},
   "outputs": [
    {
     "data": {
      "text/plain": [
       "'anmolwadali1998@gmail.com'"
      ]
     },
     "execution_count": 245,
     "metadata": {},
     "output_type": "execute_result"
    }
   ],
   "source": [
    "email_vaildate('anmolwadali1998@gmail.com')"
   ]
  },
  {
   "cell_type": "code",
   "execution_count": 319,
   "metadata": {},
   "outputs": [],
   "source": [
    "## date format regex \n",
    "\n",
    "regex= re.compile(r\"[\\d{2}]+/[\\d{2}]+/[\\d{2}]+\")"
   ]
  },
  {
   "cell_type": "code",
   "execution_count": 321,
   "metadata": {},
   "outputs": [
    {
     "data": {
      "text/plain": [
       "['22/11/2']"
      ]
     },
     "execution_count": 321,
     "metadata": {},
     "output_type": "execute_result"
    }
   ],
   "source": [
    "regex.findall(\"22/11/2\")"
   ]
  },
  {
   "cell_type": "code",
   "execution_count": 323,
   "metadata": {},
   "outputs": [],
   "source": [
    "regex2=re.compile(r'(\\d{2})/(\\d{2})/(\\d{2})')"
   ]
  },
  {
   "cell_type": "code",
   "execution_count": 324,
   "metadata": {},
   "outputs": [
    {
     "data": {
      "text/plain": [
       "[('22', '11', '21')]"
      ]
     },
     "execution_count": 324,
     "metadata": {},
     "output_type": "execute_result"
    }
   ],
   "source": [
    "regex2.findall(\"22/11/21\")"
   ]
  },
  {
   "cell_type": "code",
   "execution_count": 326,
   "metadata": {},
   "outputs": [],
   "source": [
    "def date_validate(date):\n",
    "    #format dd/mm/yy\n",
    "    regex= re.compile(r\"[\\d{2}]+/[\\d{2}]+/[\\d{2}]+\")\n",
    "    result1=regex.findall(date)\n",
    "    if len(result1)==0:\n",
    "        return None\n",
    "    regex2=re.compile(r'(\\d{2})/(\\d{2})/(\\d{2})')\n",
    "    result2=regex2.findall(result1[0])\n",
    "    dd=int(result2[0][0])\n",
    "    mm=int(result2[0][1])\n",
    "    yy=int(result2[0][2])\n",
    "    if (dd>=1 and dd<=31)and (mm>=1 and mm<=12):\n",
    "        return result1[0]\n",
    "    else:\n",
    "        return None\n",
    "        \n",
    "    \n",
    "    \n",
    "    \n",
    "    \n",
    "    \n",
    "    \n",
    "    \n",
    "    \n",
    "    \n",
    "    \n",
    "    "
   ]
  },
  {
   "cell_type": "code",
   "execution_count": 330,
   "metadata": {},
   "outputs": [
    {
     "name": "stdout",
     "output_type": "stream",
     "text": [
      "01/12/22\n"
     ]
    }
   ],
   "source": [
    "print(date_validate('01/12/22'))"
   ]
  },
  {
   "cell_type": "code",
   "execution_count": 331,
   "metadata": {},
   "outputs": [
    {
     "name": "stdout",
     "output_type": "stream",
     "text": [
      "None\n"
     ]
    }
   ],
   "source": [
    "print(date_validate('01-12/22'))"
   ]
  },
  {
   "cell_type": "code",
   "execution_count": 8,
   "metadata": {},
   "outputs": [
    {
     "ename": "NameError",
     "evalue": "name 'date_validate' is not defined",
     "output_type": "error",
     "traceback": [
      "\u001b[0;31m---------------------------------------------------------------------------\u001b[0m",
      "\u001b[0;31mNameError\u001b[0m                                 Traceback (most recent call last)",
      "\u001b[0;32m<ipython-input-8-0e0b11c56751>\u001b[0m in \u001b[0;36m<module>\u001b[0;34m\u001b[0m\n\u001b[0;32m----> 1\u001b[0;31m \u001b[0mprint\u001b[0m\u001b[0;34m(\u001b[0m\u001b[0mdate_validate\u001b[0m\u001b[0;34m(\u001b[0m\u001b[0;34m'32/12/22'\u001b[0m\u001b[0;34m)\u001b[0m\u001b[0;34m)\u001b[0m\u001b[0;34m\u001b[0m\u001b[0;34m\u001b[0m\u001b[0m\n\u001b[0m",
      "\u001b[0;31mNameError\u001b[0m: name 'date_validate' is not defined"
     ]
    }
   ],
   "source": [
    "print(date_validate('32/12/22'))"
   ]
  },
  {
   "cell_type": "code",
   "execution_count": 14,
   "metadata": {},
   "outputs": [
    {
     "ename": "ModuleNotFoundError",
     "evalue": "No module named 'fastapi_users'",
     "output_type": "error",
     "traceback": [
      "\u001b[0;31m---------------------------------------------------------------------------\u001b[0m",
      "\u001b[0;31mModuleNotFoundError\u001b[0m                       Traceback (most recent call last)",
      "\u001b[0;32m<ipython-input-14-37df88db9c52>\u001b[0m in \u001b[0;36m<module>\u001b[0;34m\u001b[0m\n\u001b[1;32m      1\u001b[0m \u001b[0;32mimport\u001b[0m \u001b[0mmotor\u001b[0m\u001b[0;34m.\u001b[0m\u001b[0mmotor_asyncio\u001b[0m\u001b[0;34m\u001b[0m\u001b[0;34m\u001b[0m\u001b[0m\n\u001b[1;32m      2\u001b[0m \u001b[0;32mfrom\u001b[0m \u001b[0mfastapi\u001b[0m \u001b[0;32mimport\u001b[0m \u001b[0mFastAPI\u001b[0m\u001b[0;34m\u001b[0m\u001b[0;34m\u001b[0m\u001b[0m\n\u001b[0;32m----> 3\u001b[0;31m \u001b[0;32mfrom\u001b[0m \u001b[0mfastapi_users\u001b[0m \u001b[0;32mimport\u001b[0m \u001b[0mmodels\u001b[0m\u001b[0;34m\u001b[0m\u001b[0;34m\u001b[0m\u001b[0m\n\u001b[0m\u001b[1;32m      4\u001b[0m \u001b[0;32mfrom\u001b[0m \u001b[0mfastapi_users\u001b[0m\u001b[0;34m.\u001b[0m\u001b[0mdb\u001b[0m \u001b[0;32mimport\u001b[0m \u001b[0mMongoDBUserDatabase\u001b[0m\u001b[0;34m\u001b[0m\u001b[0;34m\u001b[0m\u001b[0m\n",
      "\u001b[0;31mModuleNotFoundError\u001b[0m: No module named 'fastapi_users'"
     ]
    }
   ],
   "source": [
    "import motor.motor_asyncio\n",
    "from fastapi import FastAPI\n",
    "from fastapi_users import models\n",
    "from fastapi_users.db import MongoDBUserDatabase"
   ]
  },
  {
   "cell_type": "code",
   "execution_count": 10,
   "metadata": {},
   "outputs": [],
   "source": [
    "client = motor.motor_tornado.MotorClient('localhost', 27017)"
   ]
  },
  {
   "cell_type": "code",
   "execution_count": 11,
   "metadata": {},
   "outputs": [],
   "source": []
  },
  {
   "cell_type": "code",
   "execution_count": null,
   "metadata": {},
   "outputs": [],
   "source": []
  },
  {
   "cell_type": "code",
   "execution_count": null,
   "metadata": {},
   "outputs": [],
   "source": []
  }
 ],
 "metadata": {
  "kernelspec": {
   "display_name": "Python 3",
   "language": "python",
   "name": "python3"
  },
  "language_info": {
   "codemirror_mode": {
    "name": "ipython",
    "version": 3
   },
   "file_extension": ".py",
   "mimetype": "text/x-python",
   "name": "python",
   "nbconvert_exporter": "python",
   "pygments_lexer": "ipython3",
   "version": "3.7.1"
  }
 },
 "nbformat": 4,
 "nbformat_minor": 2
}
